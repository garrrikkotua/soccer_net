{
 "cells": [
  {
   "cell_type": "code",
   "execution_count": 1,
   "metadata": {},
   "outputs": [],
   "source": [
    "import requests\n",
    "import urllib.request\n",
    "import time\n",
    "from bs4 import BeautifulSoup"
   ]
  },
  {
   "cell_type": "code",
   "execution_count": 2,
   "metadata": {},
   "outputs": [],
   "source": [
    "url = 'https://www.pesmaster.com/russian-premier-liga/pes-2020/league/114/'\n",
    "response = requests.get(url)"
   ]
  },
  {
   "cell_type": "code",
   "execution_count": 3,
   "metadata": {},
   "outputs": [],
   "source": [
    "soup = BeautifulSoup(response.text,'html.parser')"
   ]
  },
  {
   "cell_type": "code",
   "execution_count": 4,
   "metadata": {},
   "outputs": [],
   "source": [
    "team_links = []\n",
    "for data in soup.findAll('div', {'class': 'team-block'}):\n",
    "    for a in data.find_all('a'):\n",
    "        team_links.append(a.get('href'))"
   ]
  },
  {
   "cell_type": "code",
   "execution_count": 5,
   "metadata": {},
   "outputs": [
    {
     "data": {
      "text/plain": [
       "['/akhmat-grozny/pes-2020/team/5196/',\n",
       " '/arsenal-tula/pes-2020/team/5197/',\n",
       " '/cska-moskva/pes-2020/team/1217/',\n",
       " '/dinamo-moskva/pes-2020/team/1753/',\n",
       " '/krasnodar/pes-2020/team/2618/',\n",
       " '/krylya-sovetov/pes-2020/team/4143/',\n",
       " '/lokomotiv-moskva/pes-2020/team/271/',\n",
       " '/orenburg/pes-2020/team/5301/',\n",
       " '/rostov/pes-2020/team/2229/',\n",
       " '/rubin-kazan/pes-2020/team/1941/',\n",
       " '/sochi/pes-2020/team/5296/',\n",
       " '/spartak-moskva/pes-2020/team/135/',\n",
       " '/tambov/pes-2020/team/5306/',\n",
       " '/ufa/pes-2020/team/5200/',\n",
       " '/ural/pes-2020/team/5201/',\n",
       " '/zenit/pes-2020/team/1218/']"
      ]
     },
     "execution_count": 5,
     "metadata": {},
     "output_type": "execute_result"
    }
   ],
   "source": [
    "team_links"
   ]
  },
  {
   "cell_type": "code",
   "execution_count": 6,
   "metadata": {},
   "outputs": [],
   "source": [
    "teams = [i.split('/')[1] for i in team_links]"
   ]
  },
  {
   "cell_type": "code",
   "execution_count": 7,
   "metadata": {},
   "outputs": [
    {
     "data": {
      "text/plain": [
       "['akhmat-grozny',\n",
       " 'arsenal-tula',\n",
       " 'cska-moskva',\n",
       " 'dinamo-moskva',\n",
       " 'krasnodar',\n",
       " 'krylya-sovetov',\n",
       " 'lokomotiv-moskva',\n",
       " 'orenburg',\n",
       " 'rostov',\n",
       " 'rubin-kazan',\n",
       " 'sochi',\n",
       " 'spartak-moskva',\n",
       " 'tambov',\n",
       " 'ufa',\n",
       " 'ural',\n",
       " 'zenit']"
      ]
     },
     "execution_count": 7,
     "metadata": {},
     "output_type": "execute_result"
    }
   ],
   "source": [
    "teams"
   ]
  },
  {
   "cell_type": "code",
   "execution_count": 8,
   "metadata": {},
   "outputs": [],
   "source": [
    "start_addres = 'https://www.pesmaster.com'\n",
    "team_links = [start_addres + i for i in team_links]"
   ]
  },
  {
   "cell_type": "code",
   "execution_count": 9,
   "metadata": {},
   "outputs": [
    {
     "data": {
      "text/plain": [
       "['https://www.pesmaster.com/akhmat-grozny/pes-2020/team/5196/',\n",
       " 'https://www.pesmaster.com/arsenal-tula/pes-2020/team/5197/',\n",
       " 'https://www.pesmaster.com/cska-moskva/pes-2020/team/1217/',\n",
       " 'https://www.pesmaster.com/dinamo-moskva/pes-2020/team/1753/',\n",
       " 'https://www.pesmaster.com/krasnodar/pes-2020/team/2618/',\n",
       " 'https://www.pesmaster.com/krylya-sovetov/pes-2020/team/4143/',\n",
       " 'https://www.pesmaster.com/lokomotiv-moskva/pes-2020/team/271/',\n",
       " 'https://www.pesmaster.com/orenburg/pes-2020/team/5301/',\n",
       " 'https://www.pesmaster.com/rostov/pes-2020/team/2229/',\n",
       " 'https://www.pesmaster.com/rubin-kazan/pes-2020/team/1941/',\n",
       " 'https://www.pesmaster.com/sochi/pes-2020/team/5296/',\n",
       " 'https://www.pesmaster.com/spartak-moskva/pes-2020/team/135/',\n",
       " 'https://www.pesmaster.com/tambov/pes-2020/team/5306/',\n",
       " 'https://www.pesmaster.com/ufa/pes-2020/team/5200/',\n",
       " 'https://www.pesmaster.com/ural/pes-2020/team/5201/',\n",
       " 'https://www.pesmaster.com/zenit/pes-2020/team/1218/']"
      ]
     },
     "execution_count": 9,
     "metadata": {},
     "output_type": "execute_result"
    }
   ],
   "source": [
    "team_links"
   ]
  },
  {
   "cell_type": "code",
   "execution_count": 170,
   "metadata": {},
   "outputs": [],
   "source": [
    "from collections import defaultdict\n",
    "pl_dict = defaultdict(dict)"
   ]
  },
  {
   "cell_type": "code",
   "execution_count": 171,
   "metadata": {},
   "outputs": [],
   "source": [
    "# собрали словарь ссылок на всех игроков\n",
    "for n, link in enumerate(team_links):\n",
    "    response = requests.get(link)\n",
    "    soup = BeautifulSoup(response.text, 'html.parser')\n",
    "    for data in soup.find_all(id='search-result-table'):\n",
    "        player_links = []\n",
    "        for a in data.find_all('a', class_='namelink'):\n",
    "            player_links.append(a.get('href'))\n",
    "        players = [i.split('/')[1] for i in player_links]\n",
    "        player_links = [start_addres + i for i in player_links]\n",
    "        for k, pl in enumerate(players):\n",
    "            pl_dict[teams[n]][pl] = player_links[k]"
   ]
  },
  {
   "cell_type": "code",
   "execution_count": 172,
   "metadata": {},
   "outputs": [],
   "source": [
    "def amplua_encoder(amp):\n",
    "    if amp == 'GK':\n",
    "        return 1\n",
    "    if amp in ('CB', 'RB', 'LB'):\n",
    "        return 2\n",
    "    if amp == 'DMF':\n",
    "        return 3\n",
    "    if amp in ('CMF', 'LMF', 'RMF'):\n",
    "        return 4\n",
    "    if amp in ('AMF', 'SS'):\n",
    "        return 5\n",
    "    if amp in ('CF', 'LWF', 'RWF'):\n",
    "        return 6\n",
    "    if amp == 'Right':\n",
    "        return 1\n",
    "    if amp == 'Left':\n",
    "        return -1\n",
    "    if not amp.isdigit():\n",
    "        return 0\n",
    "    return amp"
   ]
  },
  {
   "cell_type": "code",
   "execution_count": 173,
   "metadata": {},
   "outputs": [],
   "source": [
    "def load_player(link):\n",
    "    response = requests.get(link)\n",
    "    soap = BeautifulSoup(response.text, 'lxml')\n",
    "    features_dict = {}\n",
    "    for data in soap.find_all('div', {'class' : 'stats-block'}):\n",
    "        if data.span.text is not None:\n",
    "            features_dict[data.h4.contents[1]] = float(data.span.text)\n",
    "        for row in data.find('tbody').find_all('tr'):\n",
    "            values = row.find_all('td')\n",
    "            features_dict[values[1].text] = float(values[0].text)\n",
    "        for pos_row in soap.find_all('div', {'class' : 'player-positions-row'}):\n",
    "            for item in pos_row.find_all('div'):\n",
    "                values = item.find_all('span')\n",
    "                features_dict[values[0].text] = float(values[1].text)\n",
    "        for pl_info_row in soap.find('table', {'class' : 'player-info'}).find_all('tr'):\n",
    "            values = pl_info_row.find_all('td')\n",
    "            if values[0].text not in ('Position', 'Age', 'Stronger Foot', 'Height', 'Weight'):\n",
    "                continue\n",
    "            features_dict[values[0].text] = float(amplua_encoder(values[1].text))\n",
    "    return features_dict"
   ]
  },
  {
   "cell_type": "code",
   "execution_count": 174,
   "metadata": {},
   "outputs": [],
   "source": [
    "for team in pl_dict:\n",
    "    for pl, link in pl_dict[team].items():\n",
    "        pl_dict[team][pl] = load_player(link)"
   ]
  },
  {
   "cell_type": "code",
   "execution_count": 177,
   "metadata": {},
   "outputs": [
    {
     "data": {
      "text/plain": [
       "52"
      ]
     },
     "execution_count": 177,
     "metadata": {},
     "output_type": "execute_result"
    }
   ],
   "source": [
    "len(pl_dict['zenit']['m-kerzhakov'])"
   ]
  },
  {
   "cell_type": "code",
   "execution_count": 176,
   "metadata": {},
   "outputs": [],
   "source": [
    "with open('russian-premier-league.csv', 'w+') as f:\n",
    "    f.write('Team, Player, ' + ', '.join(pl_dict['zenit']['a-dzyuba'].keys()))\n",
    "    f.write('\\n')\n",
    "    for key in pl_dict:\n",
    "        for player in pl_dict[key]:\n",
    "            f.write(key + ', ' + player + ', ' + ', '.join([str(x) for x in pl_dict[key][player].values()]))\n",
    "            f.write('\\n')"
   ]
  },
  {
   "cell_type": "code",
   "execution_count": 178,
   "metadata": {},
   "outputs": [],
   "source": [
    "лиза = 10\n",
    "игорь = 15"
   ]
  },
  {
   "cell_type": "code",
   "execution_count": 179,
   "metadata": {},
   "outputs": [
    {
     "data": {
      "text/plain": [
       "150"
      ]
     },
     "execution_count": 179,
     "metadata": {},
     "output_type": "execute_result"
    }
   ],
   "source": [
    "лиза * игорь"
   ]
  },
  {
   "cell_type": "code",
   "execution_count": 180,
   "metadata": {},
   "outputs": [
    {
     "data": {
      "text/plain": [
       "1.5"
      ]
     },
     "execution_count": 180,
     "metadata": {},
     "output_type": "execute_result"
    }
   ],
   "source": [
    "игорь / лиза"
   ]
  },
  {
   "cell_type": "code",
   "execution_count": 181,
   "metadata": {},
   "outputs": [
    {
     "data": {
      "text/plain": [
       "576650390625"
      ]
     },
     "execution_count": 181,
     "metadata": {},
     "output_type": "execute_result"
    }
   ],
   "source": [
    "игорь ** лиза"
   ]
  },
  {
   "cell_type": "code",
   "execution_count": null,
   "metadata": {},
   "outputs": [],
   "source": []
  }
 ],
 "metadata": {
  "kernelspec": {
   "display_name": "Python 3",
   "language": "python",
   "name": "python3"
  },
  "language_info": {
   "codemirror_mode": {
    "name": "ipython",
    "version": 3
   },
   "file_extension": ".py",
   "mimetype": "text/x-python",
   "name": "python",
   "nbconvert_exporter": "python",
   "pygments_lexer": "ipython3",
   "version": "3.7.3"
  }
 },
 "nbformat": 4,
 "nbformat_minor": 2
}
